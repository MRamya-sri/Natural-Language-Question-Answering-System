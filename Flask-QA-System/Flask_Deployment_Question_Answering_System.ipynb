{
  "cells": [
    {
      "cell_type": "code",
      "execution_count": null,
      "metadata": {
        "colab": {
          "base_uri": "https://localhost:8080/"
        },
        "id": "gmVR62jYuxm_",
        "outputId": "2d133fa0-6519-4e5f-cf1f-33bb02b8c2e4"
      },
      "outputs": [
        {
          "name": "stdout",
          "output_type": "stream",
          "text": [
            "Mounted at /content/gdrive\n"
          ]
        }
      ],
      "source": [
        "#!The one working"
      ]
    },
    {
      "cell_type": "code",
      "execution_count": 1,
      "metadata": {
        "colab": {
          "base_uri": "https://localhost:8080/",
          "height": 36
        },
        "id": "w0rNPITjMPl8",
        "outputId": "5d4bd9e6-9b56-4071-8528-384e096d5456"
      },
      "outputs": [],
      "source": [
        "# import tensorflow as tf\n",
        "import numpy as np\n",
        "import re\n",
        "import gensim\n",
        "from gensim.parsing.preprocessing import remove_stopwords\n",
        "import sklearn\n",
        "from sklearn.metrics.pairwise import cosine_similarity\n",
        "import joblib\n",
        "import torch\n",
        "import nltk\n",
        "from flask import Flask, request, render_template, redirect, url_for\n",
        "from werkzeug.utils import secure_filename"
      ]
    },
    {
      "cell_type": "code",
      "execution_count": 2,
      "metadata": {
        "colab": {
          "base_uri": "https://localhost:8080/",
          "height": 1000
        },
        "id": "UehYX5tpvST9",
        "outputId": "6a0c9186-290f-41f2-81b6-7c030f012b50"
      },
      "outputs": [],
      "source": [
        "# !pip install pdfplumber\n",
        "# !pip install nltk\n",
        "# !pip install -U gensim\n",
        "# !pip install flask-ngrok\n",
        "# !pip install werkzeug\n",
        "# !pip install numpy"
      ]
    },
    {
      "cell_type": "code",
      "execution_count": 11,
      "metadata": {},
      "outputs": [],
      "source": [
        "import os"
      ]
    },
    {
      "cell_type": "code",
      "execution_count": 2,
      "metadata": {
        "id": "SJ4NZvm-vZ_D"
      },
      "outputs": [],
      "source": [
        "import pdfplumber\n",
        "\n",
        "def pdf_extract(file_name):\n",
        "    directory = \"C:/Users/MohdS/OneDrive/Desktop/Major-Project/Flask-QA-System/docs\"\n",
        "    pdf_txt = \"\"\n",
        "    for file in os.listdir(directory):\n",
        "        filename = os.fsdecode(file)\n",
        "        if(filename == file_name):\n",
        "            pdf_txt = '' # Reset pdf_txt for each file\n",
        "            with pdfplumber.open(os.path.join(directory, filename)) as pdf:  # Use os.path.join for path concatenation\n",
        "                for pdf_page in pdf.pages:\n",
        "                    single_page_text = pdf_page.extract_text()\n",
        "                    pdf_txt = pdf_txt + single_page_text\n",
        "    return pdf_txt\n"
      ]
    },
    {
      "cell_type": "code",
      "execution_count": null,
      "metadata": {},
      "outputs": [],
      "source": [
        "extracted_text = pdf_extract(\"AMZN-Q3-2020-Earnings-Release.pdf\")  # Replace \"example.pdf\" with the name of your PDF file\n",
        "print(extracted_text)\n"
      ]
    },
    {
      "cell_type": "code",
      "execution_count": 9,
      "metadata": {
        "id": "4vUrS4P3F-Fo"
      },
      "outputs": [
        {
          "name": "stdout",
          "output_type": "stream",
          "text": [
            "\n"
          ]
        }
      ],
      "source": [
        "print(pdf_extract('fdi.pdf'))"
      ]
    },
    {
      "cell_type": "code",
      "execution_count": null,
      "metadata": {
        "id": "DhI5Q2MjDJMF"
      },
      "outputs": [],
      "source": [
        "#New Way pdf Extractor\n",
        "#!pip install pdf_layout_scanner"
      ]
    },
    {
      "cell_type": "code",
      "execution_count": null,
      "metadata": {
        "id": "3bScVCYyEObu"
      },
      "outputs": [],
      "source": [
        "# from pdf_layout_scanner import layout_scanner\n",
        "# toc=layout_scanner.get_toc('docs/test.pdf')\n",
        "# pages=layout_scanner.get_pages('docs/test.pdf')\n",
        "# print(len(pages))\n",
        "\n",
        "# for i in range(len(pages)):\n",
        "#     print(pages[i])"
      ]
    },
    {
      "cell_type": "code",
      "execution_count": 3,
      "metadata": {
        "id": "UrssKQfIv9aH"
      },
      "outputs": [],
      "source": [
        "def clean_sentence(sentence, stopwords=False):\n",
        "  sentence = sentence.lower().strip()\n",
        "  sentence = re.sub(r'[^a-z0-9\\s]', '', sentence)\n",
        "  if stopwords:\n",
        "    sentence = remove_stopwords(sentence)\n",
        "  return sentence\n",
        "\n",
        "def get_cleaned_sentences(tokens, stopwords=False):\n",
        "  cleaned_sentences = []\n",
        "  for row in tokens:\n",
        "    cleaned = clean_sentence(row, stopwords)\n",
        "    cleaned_sentences.append(cleaned)\n",
        "  return cleaned_sentences"
      ]
    },
    {
      "cell_type": "code",
      "execution_count": 4,
      "metadata": {
        "id": "PifH7rLhqPYl"
      },
      "outputs": [],
      "source": [
        "def retrieveAndPrintFAQAnswer(question_embedding, sentence_embeddings, sentences):\n",
        "  max_sim = -1\n",
        "  index_sim = -1\n",
        "  for index, embedding in enumerate(sentence_embeddings):\n",
        "    sim = cosine_similarity(embedding, question_embedding)[0][0]\n",
        "    if sim > max_sim:\n",
        "      max_sim = sim\n",
        "      index_sim = index\n",
        "  \n",
        "  return index_sim"
      ]
    },
    {
      "cell_type": "markdown",
      "metadata": {
        "id": "UYRlTUtiCiy2"
      },
      "source": [
        "==================================================================================================================="
      ]
    },
    {
      "cell_type": "markdown",
      "metadata": {
        "id": "R1ostyehoP89"
      },
      "source": [
        "==================================================================================================================="
      ]
    },
    {
      "cell_type": "code",
      "execution_count": 5,
      "metadata": {
        "colab": {
          "base_uri": "https://localhost:8080/",
          "height": 750,
          "referenced_widgets": [
            "b966ade8511a486c8fd35a207e58d9c3",
            "0873c22428f84d2a8f231bc5cc997209",
            "637d0a1543ab481f8e1990a52e75e92b",
            "ee28ee41cbde4da1a283771cf5b125e3",
            "de678a71c08b4acbb152203c2a728f96",
            "d283d3d80e164a1f9f85718f1e8d06d0",
            "9d8d8b52017a4a85b0adb23e7c255eab",
            "a62b458d5ab54307b7063aee7fc6a001",
            "84b32e9d036b4bfeba214c4d350bcad6",
            "874172777b6049d386d0dcbade93d53e",
            "008472d4a7b6493fbd16820dc3239df8",
            "246d37e4fccf4378a6f5e89d73740712",
            "a1c26a00cc354437bdc5cfde5c30c4fd",
            "0592ad2a2dd0482397c32a3626628085",
            "cb322484429f445c81ff93ddd861504f",
            "09529651789b4eb3bc2f9a02931673db",
            "2fa6d7c2130a475ba94e83f5e538d8b2",
            "ef305e7dab524aad9dc3bf0b9836e9a2",
            "d71278f2768e4eb3b06f78a43d8901d5",
            "dfea59f7aec84139b71baab7ffce90ae",
            "641313617ac54d7b91e67e35efa15db0",
            "e1e828b33c5248eeb84d6c1bf70d751f",
            "f43e0a13e46047c682e8b52e6bd68e86",
            "871510e99fa04ba3919c4026d62b1dda",
            "6c5d525c443c4b06b2456234783ced43",
            "12ef9736ce9740bf9ffe1ebf551029c6",
            "c316a6c1a3724684a640ccfaae306ba7",
            "738173c662364a6e9ad2423984447132",
            "368ea1a8521749839918410bd319df62",
            "c3a9dc91fdab4f3e8f3e6c7c53bf4669",
            "3260ac6219b24cf59dd31cd55080762d",
            "484634d899e14d0e836a790d83fbbbc4",
            "6cc528292be84859997a352cd1fdd20e"
          ]
        },
        "id": "0amhOInhxQdE",
        "outputId": "489fdda7-99a0-411c-8d64-a2be4b877034"
      },
      "outputs": [
        {
          "name": "stderr",
          "output_type": "stream",
          "text": [
            "c:\\Users\\MohdS\\OneDrive\\Desktop\\Major-Project\\Flask\\lib\\site-packages\\tqdm\\auto.py:21: TqdmWarning: IProgress not found. Please update jupyter and ipywidgets. See https://ipywidgets.readthedocs.io/en/stable/user_install.html\n",
            "  from .autonotebook import tqdm as notebook_tqdm\n",
            "Some weights of the model checkpoint at bert-large-uncased-whole-word-masking-finetuned-squad were not used when initializing BertForQuestionAnswering: ['bert.pooler.dense.bias', 'bert.pooler.dense.weight']\n",
            "- This IS expected if you are initializing BertForQuestionAnswering from the checkpoint of a model trained on another task or with another architecture (e.g. initializing a BertForSequenceClassification model from a BertForPreTraining model).\n",
            "- This IS NOT expected if you are initializing BertForQuestionAnswering from the checkpoint of a model that you expect to be exactly identical (initializing a BertForSequenceClassification model from a BertForSequenceClassification model).\n"
          ]
        }
      ],
      "source": [
        "# !pip install transformers==3.1.0\n",
        "import torch\n",
        "from transformers import BertForQuestionAnswering\n",
        "model = BertForQuestionAnswering.from_pretrained('bert-large-uncased-whole-word-masking-finetuned-squad')\n",
        "from transformers import BertTokenizer\n",
        "tokenizer = BertTokenizer.from_pretrained('bert-large-uncased-whole-word-masking-finetuned-squad')"
      ]
    },
    {
      "cell_type": "code",
      "execution_count": 15,
      "metadata": {},
      "outputs": [
        {
          "name": "stderr",
          "output_type": "stream",
          "text": [
            "Some weights of the model checkpoint at bert-large-uncased-whole-word-masking-finetuned-squad were not used when initializing BertForQuestionAnswering: ['bert.pooler.dense.bias', 'bert.pooler.dense.weight']\n",
            "- This IS expected if you are initializing BertForQuestionAnswering from the checkpoint of a model trained on another task or with another architecture (e.g. initializing a BertForSequenceClassification model from a BertForPreTraining model).\n",
            "- This IS NOT expected if you are initializing BertForQuestionAnswering from the checkpoint of a model that you expect to be exactly identical (initializing a BertForSequenceClassification model from a BertForSequenceClassification model).\n"
          ]
        },
        {
          "data": {
            "text/plain": [
              "['bert_tokenizer.pkl']"
            ]
          },
          "execution_count": 15,
          "metadata": {},
          "output_type": "execute_result"
        }
      ],
      "source": [
        "\n",
        "# from transformers import BertForQuestionAnswering, BertTokenizer\n",
        "\n",
        "# # Initialize and load the BERT model\n",
        "# model = BertForQuestionAnswering.from_pretrained('bert-large-uncased-whole-word-masking-finetuned-squad')\n",
        "\n",
        "# # Initialize and load the BERT tokenizer\n",
        "# tokenizer = BertTokenizer.from_pretrained('bert-large-uncased-whole-word-masking-finetuned-squad')\n",
        "\n",
        "# # Save the model and tokenizer\n",
        "# joblib.dump(model, 'bert_model.pkl')\n",
        "# joblib.dump(tokenizer, 'bert_tokenizer.pkl')\n"
      ]
    },
    {
      "cell_type": "code",
      "execution_count": 6,
      "metadata": {},
      "outputs": [
        {
          "name": "stderr",
          "output_type": "stream",
          "text": [
            "c:\\Users\\MohdS\\OneDrive\\Desktop\\Major-Project\\Flask\\lib\\site-packages\\tqdm\\auto.py:21: TqdmWarning: IProgress not found. Please update jupyter and ipywidgets. See https://ipywidgets.readthedocs.io/en/stable/user_install.html\n",
            "  from .autonotebook import tqdm as notebook_tqdm\n"
          ]
        }
      ],
      "source": [
        "model = joblib.load('bert_model.pkl')\n",
        "tokenizer = joblib.load('bert_tokenizer.pkl')\n"
      ]
    },
    {
      "cell_type": "code",
      "execution_count": 12,
      "metadata": {},
      "outputs": [
        {
          "name": "stderr",
          "output_type": "stream",
          "text": [
            "[nltk_data] Downloading package punkt to\n",
            "[nltk_data]     C:\\Users\\MohdS\\AppData\\Roaming\\nltk_data...\n",
            "[nltk_data]   Package punkt is already up-to-date!\n",
            "Token indices sequence length is longer than the specified maximum sequence length for this model (524 > 512). Running this sequence through the model will result in indexing errors\n"
          ]
        },
        {
          "ename": "NameError",
          "evalue": "name 'bert_qa' is not defined",
          "output_type": "error",
          "traceback": [
            "\u001b[1;31m---------------------------------------------------------------------------\u001b[0m",
            "\u001b[1;31mNameError\u001b[0m                                 Traceback (most recent call last)",
            "Cell \u001b[1;32mIn[12], line 2\u001b[0m\n\u001b[0;32m      1\u001b[0m question \u001b[38;5;241m=\u001b[39m \u001b[38;5;124m\"\u001b[39m\u001b[38;5;124mOutcome of the make in india initiative?\u001b[39m\u001b[38;5;124m\"\u001b[39m\n\u001b[1;32m----> 2\u001b[0m answer \u001b[38;5;241m=\u001b[39m \u001b[43mbert_drive\u001b[49m\u001b[43m(\u001b[49m\u001b[38;5;124;43m'\u001b[39;49m\u001b[38;5;124;43mfdi.pdf\u001b[39;49m\u001b[38;5;124;43m'\u001b[39;49m\u001b[43m,\u001b[49m\u001b[43m \u001b[49m\u001b[43mquestion\u001b[49m\u001b[43m)\u001b[49m\n\u001b[0;32m      3\u001b[0m \u001b[38;5;28mprint\u001b[39m(answer)\n",
            "Cell \u001b[1;32mIn[9], line 12\u001b[0m, in \u001b[0;36mbert_drive\u001b[1;34m(file_name, question)\u001b[0m\n\u001b[0;32m      9\u001b[0m e_scores \u001b[38;5;241m=\u001b[39m numpy\u001b[38;5;241m.\u001b[39marray([])\n\u001b[0;32m     11\u001b[0m \u001b[38;5;28;01mfor\u001b[39;00m new_context \u001b[38;5;129;01min\u001b[39;00m new_df:\n\u001b[1;32m---> 12\u001b[0m     ans, score, start_score, end_score, token \u001b[38;5;241m=\u001b[39m \u001b[43mbert_qa\u001b[49m(question, new_context)\n\u001b[0;32m     13\u001b[0m     \u001b[38;5;28;01mif\u001b[39;00m score \u001b[38;5;241m>\u001b[39m max_score:\n\u001b[0;32m     14\u001b[0m         max_score \u001b[38;5;241m=\u001b[39m score\n",
            "\u001b[1;31mNameError\u001b[0m: name 'bert_qa' is not defined"
          ]
        }
      ],
      "source": [
        "question = \"Outcome of the make in india initiative?\"\n",
        "answer = bert_drive('fdi.pdf', question)\n",
        "print(answer)"
      ]
    },
    {
      "cell_type": "code",
      "execution_count": 8,
      "metadata": {
        "id": "Wh5gaBvnxu6R"
      },
      "outputs": [],
      "source": [
        "def expand_split_sentences(pdf_txt):\n",
        "  \n",
        "  nltk.download('punkt')\n",
        "  new_chunks = nltk.sent_tokenize(pdf_txt)\n",
        "  length = len(new_chunks)\n",
        "  #for i in range(length):\n",
        "    #tmp_token = tokenizer.encode(new_chunks[i])\n",
        "    #print('The input has a total of {:} tokens.'.format(len(tmp_token)))\n",
        "\n",
        "  new_df = [];\n",
        "  for i in range(length):\n",
        "    paragraph = \"\"\n",
        "    for j in range(i, length):\n",
        "      #tmp_str = paragraph + new_chunks[j]\n",
        "      tmp_token = tokenizer.encode(paragraph + new_chunks[j])\n",
        "      length_token = len(tmp_token)\n",
        "      if length_token < 510:\n",
        "        #print(length_token)\n",
        "        paragraph = paragraph + new_chunks[j]\n",
        "      else:\n",
        "        #print(length_token)\n",
        "        break;\n",
        "    #print(len(tokenizer.encode(paragraph)))\n",
        "    new_df.append(paragraph)\n",
        "  return new_df\n",
        "  #for i in new_df:\n",
        "    #print(i)"
      ]
    },
    {
      "cell_type": "code",
      "execution_count": 9,
      "metadata": {
        "id": "vtudlENRyB7j"
      },
      "outputs": [],
      "source": [
        "\n",
        "\n",
        "def bert_drive(file_name, question):\n",
        "    import numpy\n",
        "    text = pdf_extract(file_name)\n",
        "    max_score = 0\n",
        "    final_answer = \"\"\n",
        "    new_df = expand_split_sentences(text)\n",
        "    tokens = []\n",
        "    s_scores = numpy.array([])\n",
        "    e_scores = numpy.array([])\n",
        "\n",
        "    for new_context in new_df:\n",
        "        ans, score, start_score, end_score, token = bert_qa(question, new_context)\n",
        "        if score > max_score:\n",
        "            max_score = score\n",
        "            # Convert scalar values to PyTorch tensors\n",
        "            start_score_tensor = torch.tensor(start_score)\n",
        "            end_score_tensor = torch.tensor(end_score)\n",
        "            s_scores = start_score_tensor.detach().numpy()\n",
        "            e_scores = end_score_tensor.detach().numpy()\n",
        "            tokens = token\n",
        "            final_answer = ans\n",
        "\n",
        "    return final_answer, s_scores, e_scores, tokens"
      ]
    },
    {
      "cell_type": "code",
      "execution_count": 14,
      "metadata": {
        "id": "q95CQLNiyYsB"
      },
      "outputs": [
        {
          "name": "stderr",
          "output_type": "stream",
          "text": [
            "[nltk_data] Downloading package punkt to\n",
            "[nltk_data]     C:\\Users\\MohdS\\AppData\\Roaming\\nltk_data...\n",
            "[nltk_data]   Package punkt is already up-to-date!\n",
            "Token indices sequence length is longer than the specified maximum sequence length for this model (524 > 512). Running this sequence through the model will result in indexing errors\n",
            "Be aware, overflowing tokens are not returned for the setting you have chosen, i.e. sequence pairs with the 'longest_first' truncation strategy. So the returned list will always be empty even if some tokens have been removed.\n",
            "Be aware, overflowing tokens are not returned for the setting you have chosen, i.e. sequence pairs with the 'longest_first' truncation strategy. So the returned list will always be empty even if some tokens have been removed.\n",
            "Be aware, overflowing tokens are not returned for the setting you have chosen, i.e. sequence pairs with the 'longest_first' truncation strategy. So the returned list will always be empty even if some tokens have been removed.\n",
            "Be aware, overflowing tokens are not returned for the setting you have chosen, i.e. sequence pairs with the 'longest_first' truncation strategy. So the returned list will always be empty even if some tokens have been removed.\n"
          ]
        },
        {
          "name": "stdout",
          "output_type": "stream",
          "text": [
            "(96, array(0.75, dtype=float32), array(1.75, dtype=float32), 'india jumped to 63rd place in world bank ’ s ease of doing business ranking as per world bank ’ s doing business report ( dbr ) 2020 . this is driven by reforms in the areas of starting a business , paying taxes , trading across borders , and resolving insolvency . recently , government has taken various steps in addition to ongoing schemes to boost domestic and foreign investments in india . these include the national infrastructure pipeline , reduction in corporate tax , easing liquidity problems of nbfcs and banks , policy measures to boost domestic manufacturing . government of india has also promoted domestic manufacturing of goods through public procurement orders , phased manufacturing programme ( pmp ) , schemes for production linked incentives of various ministries . further , with a view to support , facilitate and provide investor friendly ecosystem to investors investing in india , the union cabinet on 03rd june , 2020 has approved constitution of an empowered group of secretaries ( egos ) , and also project development cells ( pdcs ) in all concerned ministries departments to fast - track investments in coordination between the central government and state governments , and thereby grow the pipeline of investible projects in india to increase domestic investments and fdi inflow')\n"
          ]
        }
      ],
      "source": []
    },
    {
      "cell_type": "code",
      "execution_count": null,
      "metadata": {
        "id": "hgr1bnoJkYux"
      },
      "outputs": [],
      "source": [
        "# question = \"What were the various steps taken by the government to boost domestic and foreign investment in India ?\"\n",
        "\n",
        "# answer = (bert_drive('fdi.pdf', question))\n",
        "# print(answer)\n"
      ]
    },
    {
      "cell_type": "code",
      "execution_count": 52,
      "metadata": {
        "id": "BJULxNiVJJBV"
      },
      "outputs": [],
      "source": [
        "from flask import Flask, request, render_template, redirect, url_for\n",
        "from werkzeug.utils import secure_filename\n",
        "\n",
        "app = Flask(__name__)\n",
        "\n",
        "@app.route('/', methods=['GET', 'POST'])\n",
        "def index():\n",
        "    if request.method == 'POST':\n",
        "        if request.form.get('btn') == 'index':\n",
        "            if 'upload' not in request.files:\n",
        "                return \"No file selected!\"\n",
        "            upload = request.files['upload']\n",
        "            if upload.filename == '':\n",
        "                return \"No file selected!\"\n",
        "            file_name = secure_filename(upload.filename)\n",
        "            path = \"docs\"\n",
        "            import os\n",
        "            if not os.path.exists('docs'):\n",
        "                os.makedirs('docs')\n",
        "            upload.save(os.path.join(path, secure_filename(upload.filename)))\n",
        "            return redirect(url_for('qa', file_name=file_name))\n",
        "        elif request.form.get('btn') == 'qa':\n",
        "            question = request.form.get('question')\n",
        "            file_name = request.form.get('file_name')\n",
        "            if file_name is None:\n",
        "                return \"No file selected!\"\n",
        "            answer, s_scores, e_scores, tokens = bert_drive(file_name, question)\n",
        "            return render_template('qa.html', answer=answer, question=question, file_name=file_name)\n",
        "    return render_template('index.html')\n",
        "\n",
        "@app.route('/upload/', methods=['GET', 'POST'])\n",
        "def upload():\n",
        "    return render_template('upload.html')\n",
        "\n",
        "@app.route('/qa/', methods=['GET', 'POST'])\n",
        "def qa():\n",
        "    file_name = request.args.get('file_name')\n",
        "    if file_name is None:\n",
        "        return \"No file selected\"\n",
        "    file_names = [f for f in os.listdir(\"docs\")]\n",
        "    return render_template('qa.html', file_names=file_names, file_name=file_name)\n",
        "\n",
        "# Add your bert_drive function here"
      ]
    },
    {
      "cell_type": "code",
      "execution_count": null,
      "metadata": {
        "colab": {
          "base_uri": "https://localhost:8080/"
        },
        "id": "2ZtEmYsyNdMZ",
        "outputId": "1e119db4-b013-4e83-8058-61a070297bad"
      },
      "outputs": [],
      "source": [
        "# !pip install pyngrok"
      ]
    },
    {
      "cell_type": "code",
      "execution_count": 16,
      "metadata": {
        "colab": {
          "base_uri": "https://localhost:8080/"
        },
        "id": "KlR-yLHvMl3A",
        "outputId": "109d37ed-810e-441c-a1d0-cdbeb0154c50"
      },
      "outputs": [
        {
          "name": "stdout",
          "output_type": "stream",
          "text": [
            "Authtoken saved to configuration file: C:\\Users\\MohdS\\AppData\\Local/ngrok/ngrok.yml\n"
          ]
        }
      ],
      "source": [
        "!ngrok authtoken ENTER_YOUR_AUTH_TOKEN"
      ]
    },
    {
      "cell_type": "code",
      "execution_count": 53,
      "metadata": {
        "colab": {
          "base_uri": "https://localhost:8080/",
          "height": 1000
        },
        "id": "ufZqDNOzLD4I",
        "outputId": "8d3dba8e-3d52-487c-d2a5-6cef104045cb"
      },
      "outputs": [
        {
          "name": "stdout",
          "output_type": "stream",
          "text": [
            " * Serving Flask app '__main__'\n"
          ]
        },
        {
          "name": "stdout",
          "output_type": "stream",
          "text": [
            " * Debug mode: off\n"
          ]
        },
        {
          "name": "stderr",
          "output_type": "stream",
          "text": [
            "WARNING: This is a development server. Do not use it in a production deployment. Use a production WSGI server instead.\n",
            " * Running on http://127.0.0.1:5000\n",
            "Press CTRL+C to quit\n",
            "127.0.0.1 - - [06/May/2024 16:48:36] \"GET / HTTP/1.1\" 200 -\n",
            "127.0.0.1 - - [06/May/2024 16:48:38] \"GET /upload/?type=bert HTTP/1.1\" 200 -\n",
            "127.0.0.1 - - [06/May/2024 16:48:42] \"POST / HTTP/1.1\" 302 -\n",
            "127.0.0.1 - - [06/May/2024 16:48:42] \"GET /qa/?file_name=fdi.pdf HTTP/1.1\" 200 -\n",
            "[nltk_data] Downloading package punkt to\n",
            "[nltk_data]     C:\\Users\\MohdS\\AppData\\Roaming\\nltk_data...\n",
            "[nltk_data]   Package punkt is already up-to-date!\n",
            "[2024-05-06 16:49:05,355] ERROR in app: Exception on / [POST]\n",
            "Traceback (most recent call last):\n",
            "  File \"c:\\Users\\MohdS\\OneDrive\\Desktop\\Major-Project\\Flask\\lib\\site-packages\\flask\\app.py\", line 1463, in wsgi_app\n",
            "    response = self.full_dispatch_request()\n",
            "  File \"c:\\Users\\MohdS\\OneDrive\\Desktop\\Major-Project\\Flask\\lib\\site-packages\\flask\\app.py\", line 872, in full_dispatch_request\n",
            "    rv = self.handle_user_exception(e)\n",
            "  File \"c:\\Users\\MohdS\\OneDrive\\Desktop\\Major-Project\\Flask\\lib\\site-packages\\flask\\app.py\", line 870, in full_dispatch_request\n",
            "    rv = self.dispatch_request()\n",
            "  File \"c:\\Users\\MohdS\\OneDrive\\Desktop\\Major-Project\\Flask\\lib\\site-packages\\flask\\app.py\", line 855, in dispatch_request\n",
            "    return self.ensure_sync(self.view_functions[rule.endpoint])(**view_args)  # type: ignore[no-any-return]\n",
            "  File \"C:\\Users\\MohdS\\AppData\\Local\\Temp\\ipykernel_19552\\1139588696.py\", line 27, in index\n",
            "    answer, s_scores, e_scores, tokens = bert_drive(file_name, question)\n",
            "  File \"C:\\Users\\MohdS\\AppData\\Local\\Temp\\ipykernel_19552\\1468214990.py\", line 12, in bert_drive\n",
            "    ans, score, start_score, end_score, token = bert_qa(question, new_context)\n",
            "ValueError: too many values to unpack (expected 5)\n",
            "127.0.0.1 - - [06/May/2024 16:49:05] \"POST / HTTP/1.1\" 500 -\n"
          ]
        }
      ],
      "source": [
        "app.run()"
      ]
    }
  ],
  "metadata": {
    "colab": {
      "collapsed_sections": [],
      "provenance": []
    },
    "kernelspec": {
      "display_name": "Python 3",
      "name": "python3"
    },
    "language_info": {
      "codemirror_mode": {
        "name": "ipython",
        "version": 3
      },
      "file_extension": ".py",
      "mimetype": "text/x-python",
      "name": "python",
      "nbconvert_exporter": "python",
      "pygments_lexer": "ipython3",
      "version": "3.10.11"
    },
    "widgets": {
      "application/vnd.jupyter.widget-state+json": {
        "008472d4a7b6493fbd16820dc3239df8": {
          "model_module": "@jupyter-widgets/controls",
          "model_module_version": "1.5.0",
          "model_name": "DescriptionStyleModel",
          "state": {
            "_model_module": "@jupyter-widgets/controls",
            "_model_module_version": "1.5.0",
            "_model_name": "DescriptionStyleModel",
            "_view_count": null,
            "_view_module": "@jupyter-widgets/base",
            "_view_module_version": "1.2.0",
            "_view_name": "StyleView",
            "description_width": ""
          }
        },
        "0592ad2a2dd0482397c32a3626628085": {
          "model_module": "@jupyter-widgets/controls",
          "model_module_version": "1.5.0",
          "model_name": "FloatProgressModel",
          "state": {
            "_dom_classes": [],
            "_model_module": "@jupyter-widgets/controls",
            "_model_module_version": "1.5.0",
            "_model_name": "FloatProgressModel",
            "_view_count": null,
            "_view_module": "@jupyter-widgets/controls",
            "_view_module_version": "1.5.0",
            "_view_name": "ProgressView",
            "bar_style": "success",
            "description": "",
            "description_tooltip": null,
            "layout": "IPY_MODEL_d71278f2768e4eb3b06f78a43d8901d5",
            "max": 1340675298,
            "min": 0,
            "orientation": "horizontal",
            "style": "IPY_MODEL_dfea59f7aec84139b71baab7ffce90ae",
            "value": 1340675298
          }
        },
        "0873c22428f84d2a8f231bc5cc997209": {
          "model_module": "@jupyter-widgets/controls",
          "model_module_version": "1.5.0",
          "model_name": "HTMLModel",
          "state": {
            "_dom_classes": [],
            "_model_module": "@jupyter-widgets/controls",
            "_model_module_version": "1.5.0",
            "_model_name": "HTMLModel",
            "_view_count": null,
            "_view_module": "@jupyter-widgets/controls",
            "_view_module_version": "1.5.0",
            "_view_name": "HTMLView",
            "description": "",
            "description_tooltip": null,
            "layout": "IPY_MODEL_d283d3d80e164a1f9f85718f1e8d06d0",
            "placeholder": "​",
            "style": "IPY_MODEL_9d8d8b52017a4a85b0adb23e7c255eab",
            "value": "Downloading: 100%"
          }
        },
        "09529651789b4eb3bc2f9a02931673db": {
          "model_module": "@jupyter-widgets/base",
          "model_module_version": "1.2.0",
          "model_name": "LayoutModel",
          "state": {
            "_model_module": "@jupyter-widgets/base",
            "_model_module_version": "1.2.0",
            "_model_name": "LayoutModel",
            "_view_count": null,
            "_view_module": "@jupyter-widgets/base",
            "_view_module_version": "1.2.0",
            "_view_name": "LayoutView",
            "align_content": null,
            "align_items": null,
            "align_self": null,
            "border": null,
            "bottom": null,
            "display": null,
            "flex": null,
            "flex_flow": null,
            "grid_area": null,
            "grid_auto_columns": null,
            "grid_auto_flow": null,
            "grid_auto_rows": null,
            "grid_column": null,
            "grid_gap": null,
            "grid_row": null,
            "grid_template_areas": null,
            "grid_template_columns": null,
            "grid_template_rows": null,
            "height": null,
            "justify_content": null,
            "justify_items": null,
            "left": null,
            "margin": null,
            "max_height": null,
            "max_width": null,
            "min_height": null,
            "min_width": null,
            "object_fit": null,
            "object_position": null,
            "order": null,
            "overflow": null,
            "overflow_x": null,
            "overflow_y": null,
            "padding": null,
            "right": null,
            "top": null,
            "visibility": null,
            "width": null
          }
        },
        "12ef9736ce9740bf9ffe1ebf551029c6": {
          "model_module": "@jupyter-widgets/controls",
          "model_module_version": "1.5.0",
          "model_name": "HTMLModel",
          "state": {
            "_dom_classes": [],
            "_model_module": "@jupyter-widgets/controls",
            "_model_module_version": "1.5.0",
            "_model_name": "HTMLModel",
            "_view_count": null,
            "_view_module": "@jupyter-widgets/controls",
            "_view_module_version": "1.5.0",
            "_view_name": "HTMLView",
            "description": "",
            "description_tooltip": null,
            "layout": "IPY_MODEL_484634d899e14d0e836a790d83fbbbc4",
            "placeholder": "​",
            "style": "IPY_MODEL_6cc528292be84859997a352cd1fdd20e",
            "value": " 232k/232k [00:00&lt;00:00, 1.26MB/s]"
          }
        },
        "246d37e4fccf4378a6f5e89d73740712": {
          "model_module": "@jupyter-widgets/controls",
          "model_module_version": "1.5.0",
          "model_name": "HBoxModel",
          "state": {
            "_dom_classes": [],
            "_model_module": "@jupyter-widgets/controls",
            "_model_module_version": "1.5.0",
            "_model_name": "HBoxModel",
            "_view_count": null,
            "_view_module": "@jupyter-widgets/controls",
            "_view_module_version": "1.5.0",
            "_view_name": "HBoxView",
            "box_style": "",
            "children": [
              "IPY_MODEL_a1c26a00cc354437bdc5cfde5c30c4fd",
              "IPY_MODEL_0592ad2a2dd0482397c32a3626628085",
              "IPY_MODEL_cb322484429f445c81ff93ddd861504f"
            ],
            "layout": "IPY_MODEL_09529651789b4eb3bc2f9a02931673db"
          }
        },
        "2fa6d7c2130a475ba94e83f5e538d8b2": {
          "model_module": "@jupyter-widgets/base",
          "model_module_version": "1.2.0",
          "model_name": "LayoutModel",
          "state": {
            "_model_module": "@jupyter-widgets/base",
            "_model_module_version": "1.2.0",
            "_model_name": "LayoutModel",
            "_view_count": null,
            "_view_module": "@jupyter-widgets/base",
            "_view_module_version": "1.2.0",
            "_view_name": "LayoutView",
            "align_content": null,
            "align_items": null,
            "align_self": null,
            "border": null,
            "bottom": null,
            "display": null,
            "flex": null,
            "flex_flow": null,
            "grid_area": null,
            "grid_auto_columns": null,
            "grid_auto_flow": null,
            "grid_auto_rows": null,
            "grid_column": null,
            "grid_gap": null,
            "grid_row": null,
            "grid_template_areas": null,
            "grid_template_columns": null,
            "grid_template_rows": null,
            "height": null,
            "justify_content": null,
            "justify_items": null,
            "left": null,
            "margin": null,
            "max_height": null,
            "max_width": null,
            "min_height": null,
            "min_width": null,
            "object_fit": null,
            "object_position": null,
            "order": null,
            "overflow": null,
            "overflow_x": null,
            "overflow_y": null,
            "padding": null,
            "right": null,
            "top": null,
            "visibility": null,
            "width": null
          }
        },
        "3260ac6219b24cf59dd31cd55080762d": {
          "model_module": "@jupyter-widgets/controls",
          "model_module_version": "1.5.0",
          "model_name": "ProgressStyleModel",
          "state": {
            "_model_module": "@jupyter-widgets/controls",
            "_model_module_version": "1.5.0",
            "_model_name": "ProgressStyleModel",
            "_view_count": null,
            "_view_module": "@jupyter-widgets/base",
            "_view_module_version": "1.2.0",
            "_view_name": "StyleView",
            "bar_color": null,
            "description_width": ""
          }
        },
        "368ea1a8521749839918410bd319df62": {
          "model_module": "@jupyter-widgets/controls",
          "model_module_version": "1.5.0",
          "model_name": "DescriptionStyleModel",
          "state": {
            "_model_module": "@jupyter-widgets/controls",
            "_model_module_version": "1.5.0",
            "_model_name": "DescriptionStyleModel",
            "_view_count": null,
            "_view_module": "@jupyter-widgets/base",
            "_view_module_version": "1.2.0",
            "_view_name": "StyleView",
            "description_width": ""
          }
        },
        "484634d899e14d0e836a790d83fbbbc4": {
          "model_module": "@jupyter-widgets/base",
          "model_module_version": "1.2.0",
          "model_name": "LayoutModel",
          "state": {
            "_model_module": "@jupyter-widgets/base",
            "_model_module_version": "1.2.0",
            "_model_name": "LayoutModel",
            "_view_count": null,
            "_view_module": "@jupyter-widgets/base",
            "_view_module_version": "1.2.0",
            "_view_name": "LayoutView",
            "align_content": null,
            "align_items": null,
            "align_self": null,
            "border": null,
            "bottom": null,
            "display": null,
            "flex": null,
            "flex_flow": null,
            "grid_area": null,
            "grid_auto_columns": null,
            "grid_auto_flow": null,
            "grid_auto_rows": null,
            "grid_column": null,
            "grid_gap": null,
            "grid_row": null,
            "grid_template_areas": null,
            "grid_template_columns": null,
            "grid_template_rows": null,
            "height": null,
            "justify_content": null,
            "justify_items": null,
            "left": null,
            "margin": null,
            "max_height": null,
            "max_width": null,
            "min_height": null,
            "min_width": null,
            "object_fit": null,
            "object_position": null,
            "order": null,
            "overflow": null,
            "overflow_x": null,
            "overflow_y": null,
            "padding": null,
            "right": null,
            "top": null,
            "visibility": null,
            "width": null
          }
        },
        "637d0a1543ab481f8e1990a52e75e92b": {
          "model_module": "@jupyter-widgets/controls",
          "model_module_version": "1.5.0",
          "model_name": "FloatProgressModel",
          "state": {
            "_dom_classes": [],
            "_model_module": "@jupyter-widgets/controls",
            "_model_module_version": "1.5.0",
            "_model_name": "FloatProgressModel",
            "_view_count": null,
            "_view_module": "@jupyter-widgets/controls",
            "_view_module_version": "1.5.0",
            "_view_name": "ProgressView",
            "bar_style": "success",
            "description": "",
            "description_tooltip": null,
            "layout": "IPY_MODEL_a62b458d5ab54307b7063aee7fc6a001",
            "max": 443,
            "min": 0,
            "orientation": "horizontal",
            "style": "IPY_MODEL_84b32e9d036b4bfeba214c4d350bcad6",
            "value": 443
          }
        },
        "641313617ac54d7b91e67e35efa15db0": {
          "model_module": "@jupyter-widgets/base",
          "model_module_version": "1.2.0",
          "model_name": "LayoutModel",
          "state": {
            "_model_module": "@jupyter-widgets/base",
            "_model_module_version": "1.2.0",
            "_model_name": "LayoutModel",
            "_view_count": null,
            "_view_module": "@jupyter-widgets/base",
            "_view_module_version": "1.2.0",
            "_view_name": "LayoutView",
            "align_content": null,
            "align_items": null,
            "align_self": null,
            "border": null,
            "bottom": null,
            "display": null,
            "flex": null,
            "flex_flow": null,
            "grid_area": null,
            "grid_auto_columns": null,
            "grid_auto_flow": null,
            "grid_auto_rows": null,
            "grid_column": null,
            "grid_gap": null,
            "grid_row": null,
            "grid_template_areas": null,
            "grid_template_columns": null,
            "grid_template_rows": null,
            "height": null,
            "justify_content": null,
            "justify_items": null,
            "left": null,
            "margin": null,
            "max_height": null,
            "max_width": null,
            "min_height": null,
            "min_width": null,
            "object_fit": null,
            "object_position": null,
            "order": null,
            "overflow": null,
            "overflow_x": null,
            "overflow_y": null,
            "padding": null,
            "right": null,
            "top": null,
            "visibility": null,
            "width": null
          }
        },
        "6c5d525c443c4b06b2456234783ced43": {
          "model_module": "@jupyter-widgets/controls",
          "model_module_version": "1.5.0",
          "model_name": "FloatProgressModel",
          "state": {
            "_dom_classes": [],
            "_model_module": "@jupyter-widgets/controls",
            "_model_module_version": "1.5.0",
            "_model_name": "FloatProgressModel",
            "_view_count": null,
            "_view_module": "@jupyter-widgets/controls",
            "_view_module_version": "1.5.0",
            "_view_name": "ProgressView",
            "bar_style": "success",
            "description": "",
            "description_tooltip": null,
            "layout": "IPY_MODEL_c3a9dc91fdab4f3e8f3e6c7c53bf4669",
            "max": 231508,
            "min": 0,
            "orientation": "horizontal",
            "style": "IPY_MODEL_3260ac6219b24cf59dd31cd55080762d",
            "value": 231508
          }
        },
        "6cc528292be84859997a352cd1fdd20e": {
          "model_module": "@jupyter-widgets/controls",
          "model_module_version": "1.5.0",
          "model_name": "DescriptionStyleModel",
          "state": {
            "_model_module": "@jupyter-widgets/controls",
            "_model_module_version": "1.5.0",
            "_model_name": "DescriptionStyleModel",
            "_view_count": null,
            "_view_module": "@jupyter-widgets/base",
            "_view_module_version": "1.2.0",
            "_view_name": "StyleView",
            "description_width": ""
          }
        },
        "738173c662364a6e9ad2423984447132": {
          "model_module": "@jupyter-widgets/base",
          "model_module_version": "1.2.0",
          "model_name": "LayoutModel",
          "state": {
            "_model_module": "@jupyter-widgets/base",
            "_model_module_version": "1.2.0",
            "_model_name": "LayoutModel",
            "_view_count": null,
            "_view_module": "@jupyter-widgets/base",
            "_view_module_version": "1.2.0",
            "_view_name": "LayoutView",
            "align_content": null,
            "align_items": null,
            "align_self": null,
            "border": null,
            "bottom": null,
            "display": null,
            "flex": null,
            "flex_flow": null,
            "grid_area": null,
            "grid_auto_columns": null,
            "grid_auto_flow": null,
            "grid_auto_rows": null,
            "grid_column": null,
            "grid_gap": null,
            "grid_row": null,
            "grid_template_areas": null,
            "grid_template_columns": null,
            "grid_template_rows": null,
            "height": null,
            "justify_content": null,
            "justify_items": null,
            "left": null,
            "margin": null,
            "max_height": null,
            "max_width": null,
            "min_height": null,
            "min_width": null,
            "object_fit": null,
            "object_position": null,
            "order": null,
            "overflow": null,
            "overflow_x": null,
            "overflow_y": null,
            "padding": null,
            "right": null,
            "top": null,
            "visibility": null,
            "width": null
          }
        },
        "84b32e9d036b4bfeba214c4d350bcad6": {
          "model_module": "@jupyter-widgets/controls",
          "model_module_version": "1.5.0",
          "model_name": "ProgressStyleModel",
          "state": {
            "_model_module": "@jupyter-widgets/controls",
            "_model_module_version": "1.5.0",
            "_model_name": "ProgressStyleModel",
            "_view_count": null,
            "_view_module": "@jupyter-widgets/base",
            "_view_module_version": "1.2.0",
            "_view_name": "StyleView",
            "bar_color": null,
            "description_width": ""
          }
        },
        "871510e99fa04ba3919c4026d62b1dda": {
          "model_module": "@jupyter-widgets/controls",
          "model_module_version": "1.5.0",
          "model_name": "HTMLModel",
          "state": {
            "_dom_classes": [],
            "_model_module": "@jupyter-widgets/controls",
            "_model_module_version": "1.5.0",
            "_model_name": "HTMLModel",
            "_view_count": null,
            "_view_module": "@jupyter-widgets/controls",
            "_view_module_version": "1.5.0",
            "_view_name": "HTMLView",
            "description": "",
            "description_tooltip": null,
            "layout": "IPY_MODEL_738173c662364a6e9ad2423984447132",
            "placeholder": "​",
            "style": "IPY_MODEL_368ea1a8521749839918410bd319df62",
            "value": "Downloading: 100%"
          }
        },
        "874172777b6049d386d0dcbade93d53e": {
          "model_module": "@jupyter-widgets/base",
          "model_module_version": "1.2.0",
          "model_name": "LayoutModel",
          "state": {
            "_model_module": "@jupyter-widgets/base",
            "_model_module_version": "1.2.0",
            "_model_name": "LayoutModel",
            "_view_count": null,
            "_view_module": "@jupyter-widgets/base",
            "_view_module_version": "1.2.0",
            "_view_name": "LayoutView",
            "align_content": null,
            "align_items": null,
            "align_self": null,
            "border": null,
            "bottom": null,
            "display": null,
            "flex": null,
            "flex_flow": null,
            "grid_area": null,
            "grid_auto_columns": null,
            "grid_auto_flow": null,
            "grid_auto_rows": null,
            "grid_column": null,
            "grid_gap": null,
            "grid_row": null,
            "grid_template_areas": null,
            "grid_template_columns": null,
            "grid_template_rows": null,
            "height": null,
            "justify_content": null,
            "justify_items": null,
            "left": null,
            "margin": null,
            "max_height": null,
            "max_width": null,
            "min_height": null,
            "min_width": null,
            "object_fit": null,
            "object_position": null,
            "order": null,
            "overflow": null,
            "overflow_x": null,
            "overflow_y": null,
            "padding": null,
            "right": null,
            "top": null,
            "visibility": null,
            "width": null
          }
        },
        "9d8d8b52017a4a85b0adb23e7c255eab": {
          "model_module": "@jupyter-widgets/controls",
          "model_module_version": "1.5.0",
          "model_name": "DescriptionStyleModel",
          "state": {
            "_model_module": "@jupyter-widgets/controls",
            "_model_module_version": "1.5.0",
            "_model_name": "DescriptionStyleModel",
            "_view_count": null,
            "_view_module": "@jupyter-widgets/base",
            "_view_module_version": "1.2.0",
            "_view_name": "StyleView",
            "description_width": ""
          }
        },
        "a1c26a00cc354437bdc5cfde5c30c4fd": {
          "model_module": "@jupyter-widgets/controls",
          "model_module_version": "1.5.0",
          "model_name": "HTMLModel",
          "state": {
            "_dom_classes": [],
            "_model_module": "@jupyter-widgets/controls",
            "_model_module_version": "1.5.0",
            "_model_name": "HTMLModel",
            "_view_count": null,
            "_view_module": "@jupyter-widgets/controls",
            "_view_module_version": "1.5.0",
            "_view_name": "HTMLView",
            "description": "",
            "description_tooltip": null,
            "layout": "IPY_MODEL_2fa6d7c2130a475ba94e83f5e538d8b2",
            "placeholder": "​",
            "style": "IPY_MODEL_ef305e7dab524aad9dc3bf0b9836e9a2",
            "value": "Downloading: 100%"
          }
        },
        "a62b458d5ab54307b7063aee7fc6a001": {
          "model_module": "@jupyter-widgets/base",
          "model_module_version": "1.2.0",
          "model_name": "LayoutModel",
          "state": {
            "_model_module": "@jupyter-widgets/base",
            "_model_module_version": "1.2.0",
            "_model_name": "LayoutModel",
            "_view_count": null,
            "_view_module": "@jupyter-widgets/base",
            "_view_module_version": "1.2.0",
            "_view_name": "LayoutView",
            "align_content": null,
            "align_items": null,
            "align_self": null,
            "border": null,
            "bottom": null,
            "display": null,
            "flex": null,
            "flex_flow": null,
            "grid_area": null,
            "grid_auto_columns": null,
            "grid_auto_flow": null,
            "grid_auto_rows": null,
            "grid_column": null,
            "grid_gap": null,
            "grid_row": null,
            "grid_template_areas": null,
            "grid_template_columns": null,
            "grid_template_rows": null,
            "height": null,
            "justify_content": null,
            "justify_items": null,
            "left": null,
            "margin": null,
            "max_height": null,
            "max_width": null,
            "min_height": null,
            "min_width": null,
            "object_fit": null,
            "object_position": null,
            "order": null,
            "overflow": null,
            "overflow_x": null,
            "overflow_y": null,
            "padding": null,
            "right": null,
            "top": null,
            "visibility": null,
            "width": null
          }
        },
        "b966ade8511a486c8fd35a207e58d9c3": {
          "model_module": "@jupyter-widgets/controls",
          "model_module_version": "1.5.0",
          "model_name": "HBoxModel",
          "state": {
            "_dom_classes": [],
            "_model_module": "@jupyter-widgets/controls",
            "_model_module_version": "1.5.0",
            "_model_name": "HBoxModel",
            "_view_count": null,
            "_view_module": "@jupyter-widgets/controls",
            "_view_module_version": "1.5.0",
            "_view_name": "HBoxView",
            "box_style": "",
            "children": [
              "IPY_MODEL_0873c22428f84d2a8f231bc5cc997209",
              "IPY_MODEL_637d0a1543ab481f8e1990a52e75e92b",
              "IPY_MODEL_ee28ee41cbde4da1a283771cf5b125e3"
            ],
            "layout": "IPY_MODEL_de678a71c08b4acbb152203c2a728f96"
          }
        },
        "c316a6c1a3724684a640ccfaae306ba7": {
          "model_module": "@jupyter-widgets/base",
          "model_module_version": "1.2.0",
          "model_name": "LayoutModel",
          "state": {
            "_model_module": "@jupyter-widgets/base",
            "_model_module_version": "1.2.0",
            "_model_name": "LayoutModel",
            "_view_count": null,
            "_view_module": "@jupyter-widgets/base",
            "_view_module_version": "1.2.0",
            "_view_name": "LayoutView",
            "align_content": null,
            "align_items": null,
            "align_self": null,
            "border": null,
            "bottom": null,
            "display": null,
            "flex": null,
            "flex_flow": null,
            "grid_area": null,
            "grid_auto_columns": null,
            "grid_auto_flow": null,
            "grid_auto_rows": null,
            "grid_column": null,
            "grid_gap": null,
            "grid_row": null,
            "grid_template_areas": null,
            "grid_template_columns": null,
            "grid_template_rows": null,
            "height": null,
            "justify_content": null,
            "justify_items": null,
            "left": null,
            "margin": null,
            "max_height": null,
            "max_width": null,
            "min_height": null,
            "min_width": null,
            "object_fit": null,
            "object_position": null,
            "order": null,
            "overflow": null,
            "overflow_x": null,
            "overflow_y": null,
            "padding": null,
            "right": null,
            "top": null,
            "visibility": null,
            "width": null
          }
        },
        "c3a9dc91fdab4f3e8f3e6c7c53bf4669": {
          "model_module": "@jupyter-widgets/base",
          "model_module_version": "1.2.0",
          "model_name": "LayoutModel",
          "state": {
            "_model_module": "@jupyter-widgets/base",
            "_model_module_version": "1.2.0",
            "_model_name": "LayoutModel",
            "_view_count": null,
            "_view_module": "@jupyter-widgets/base",
            "_view_module_version": "1.2.0",
            "_view_name": "LayoutView",
            "align_content": null,
            "align_items": null,
            "align_self": null,
            "border": null,
            "bottom": null,
            "display": null,
            "flex": null,
            "flex_flow": null,
            "grid_area": null,
            "grid_auto_columns": null,
            "grid_auto_flow": null,
            "grid_auto_rows": null,
            "grid_column": null,
            "grid_gap": null,
            "grid_row": null,
            "grid_template_areas": null,
            "grid_template_columns": null,
            "grid_template_rows": null,
            "height": null,
            "justify_content": null,
            "justify_items": null,
            "left": null,
            "margin": null,
            "max_height": null,
            "max_width": null,
            "min_height": null,
            "min_width": null,
            "object_fit": null,
            "object_position": null,
            "order": null,
            "overflow": null,
            "overflow_x": null,
            "overflow_y": null,
            "padding": null,
            "right": null,
            "top": null,
            "visibility": null,
            "width": null
          }
        },
        "cb322484429f445c81ff93ddd861504f": {
          "model_module": "@jupyter-widgets/controls",
          "model_module_version": "1.5.0",
          "model_name": "HTMLModel",
          "state": {
            "_dom_classes": [],
            "_model_module": "@jupyter-widgets/controls",
            "_model_module_version": "1.5.0",
            "_model_name": "HTMLModel",
            "_view_count": null,
            "_view_module": "@jupyter-widgets/controls",
            "_view_module_version": "1.5.0",
            "_view_name": "HTMLView",
            "description": "",
            "description_tooltip": null,
            "layout": "IPY_MODEL_641313617ac54d7b91e67e35efa15db0",
            "placeholder": "​",
            "style": "IPY_MODEL_e1e828b33c5248eeb84d6c1bf70d751f",
            "value": " 1.34G/1.34G [00:42&lt;00:00, 35.3MB/s]"
          }
        },
        "d283d3d80e164a1f9f85718f1e8d06d0": {
          "model_module": "@jupyter-widgets/base",
          "model_module_version": "1.2.0",
          "model_name": "LayoutModel",
          "state": {
            "_model_module": "@jupyter-widgets/base",
            "_model_module_version": "1.2.0",
            "_model_name": "LayoutModel",
            "_view_count": null,
            "_view_module": "@jupyter-widgets/base",
            "_view_module_version": "1.2.0",
            "_view_name": "LayoutView",
            "align_content": null,
            "align_items": null,
            "align_self": null,
            "border": null,
            "bottom": null,
            "display": null,
            "flex": null,
            "flex_flow": null,
            "grid_area": null,
            "grid_auto_columns": null,
            "grid_auto_flow": null,
            "grid_auto_rows": null,
            "grid_column": null,
            "grid_gap": null,
            "grid_row": null,
            "grid_template_areas": null,
            "grid_template_columns": null,
            "grid_template_rows": null,
            "height": null,
            "justify_content": null,
            "justify_items": null,
            "left": null,
            "margin": null,
            "max_height": null,
            "max_width": null,
            "min_height": null,
            "min_width": null,
            "object_fit": null,
            "object_position": null,
            "order": null,
            "overflow": null,
            "overflow_x": null,
            "overflow_y": null,
            "padding": null,
            "right": null,
            "top": null,
            "visibility": null,
            "width": null
          }
        },
        "d71278f2768e4eb3b06f78a43d8901d5": {
          "model_module": "@jupyter-widgets/base",
          "model_module_version": "1.2.0",
          "model_name": "LayoutModel",
          "state": {
            "_model_module": "@jupyter-widgets/base",
            "_model_module_version": "1.2.0",
            "_model_name": "LayoutModel",
            "_view_count": null,
            "_view_module": "@jupyter-widgets/base",
            "_view_module_version": "1.2.0",
            "_view_name": "LayoutView",
            "align_content": null,
            "align_items": null,
            "align_self": null,
            "border": null,
            "bottom": null,
            "display": null,
            "flex": null,
            "flex_flow": null,
            "grid_area": null,
            "grid_auto_columns": null,
            "grid_auto_flow": null,
            "grid_auto_rows": null,
            "grid_column": null,
            "grid_gap": null,
            "grid_row": null,
            "grid_template_areas": null,
            "grid_template_columns": null,
            "grid_template_rows": null,
            "height": null,
            "justify_content": null,
            "justify_items": null,
            "left": null,
            "margin": null,
            "max_height": null,
            "max_width": null,
            "min_height": null,
            "min_width": null,
            "object_fit": null,
            "object_position": null,
            "order": null,
            "overflow": null,
            "overflow_x": null,
            "overflow_y": null,
            "padding": null,
            "right": null,
            "top": null,
            "visibility": null,
            "width": null
          }
        },
        "de678a71c08b4acbb152203c2a728f96": {
          "model_module": "@jupyter-widgets/base",
          "model_module_version": "1.2.0",
          "model_name": "LayoutModel",
          "state": {
            "_model_module": "@jupyter-widgets/base",
            "_model_module_version": "1.2.0",
            "_model_name": "LayoutModel",
            "_view_count": null,
            "_view_module": "@jupyter-widgets/base",
            "_view_module_version": "1.2.0",
            "_view_name": "LayoutView",
            "align_content": null,
            "align_items": null,
            "align_self": null,
            "border": null,
            "bottom": null,
            "display": null,
            "flex": null,
            "flex_flow": null,
            "grid_area": null,
            "grid_auto_columns": null,
            "grid_auto_flow": null,
            "grid_auto_rows": null,
            "grid_column": null,
            "grid_gap": null,
            "grid_row": null,
            "grid_template_areas": null,
            "grid_template_columns": null,
            "grid_template_rows": null,
            "height": null,
            "justify_content": null,
            "justify_items": null,
            "left": null,
            "margin": null,
            "max_height": null,
            "max_width": null,
            "min_height": null,
            "min_width": null,
            "object_fit": null,
            "object_position": null,
            "order": null,
            "overflow": null,
            "overflow_x": null,
            "overflow_y": null,
            "padding": null,
            "right": null,
            "top": null,
            "visibility": null,
            "width": null
          }
        },
        "dfea59f7aec84139b71baab7ffce90ae": {
          "model_module": "@jupyter-widgets/controls",
          "model_module_version": "1.5.0",
          "model_name": "ProgressStyleModel",
          "state": {
            "_model_module": "@jupyter-widgets/controls",
            "_model_module_version": "1.5.0",
            "_model_name": "ProgressStyleModel",
            "_view_count": null,
            "_view_module": "@jupyter-widgets/base",
            "_view_module_version": "1.2.0",
            "_view_name": "StyleView",
            "bar_color": null,
            "description_width": ""
          }
        },
        "e1e828b33c5248eeb84d6c1bf70d751f": {
          "model_module": "@jupyter-widgets/controls",
          "model_module_version": "1.5.0",
          "model_name": "DescriptionStyleModel",
          "state": {
            "_model_module": "@jupyter-widgets/controls",
            "_model_module_version": "1.5.0",
            "_model_name": "DescriptionStyleModel",
            "_view_count": null,
            "_view_module": "@jupyter-widgets/base",
            "_view_module_version": "1.2.0",
            "_view_name": "StyleView",
            "description_width": ""
          }
        },
        "ee28ee41cbde4da1a283771cf5b125e3": {
          "model_module": "@jupyter-widgets/controls",
          "model_module_version": "1.5.0",
          "model_name": "HTMLModel",
          "state": {
            "_dom_classes": [],
            "_model_module": "@jupyter-widgets/controls",
            "_model_module_version": "1.5.0",
            "_model_name": "HTMLModel",
            "_view_count": null,
            "_view_module": "@jupyter-widgets/controls",
            "_view_module_version": "1.5.0",
            "_view_name": "HTMLView",
            "description": "",
            "description_tooltip": null,
            "layout": "IPY_MODEL_874172777b6049d386d0dcbade93d53e",
            "placeholder": "​",
            "style": "IPY_MODEL_008472d4a7b6493fbd16820dc3239df8",
            "value": " 443/443 [00:00&lt;00:00, 9.43kB/s]"
          }
        },
        "ef305e7dab524aad9dc3bf0b9836e9a2": {
          "model_module": "@jupyter-widgets/controls",
          "model_module_version": "1.5.0",
          "model_name": "DescriptionStyleModel",
          "state": {
            "_model_module": "@jupyter-widgets/controls",
            "_model_module_version": "1.5.0",
            "_model_name": "DescriptionStyleModel",
            "_view_count": null,
            "_view_module": "@jupyter-widgets/base",
            "_view_module_version": "1.2.0",
            "_view_name": "StyleView",
            "description_width": ""
          }
        },
        "f43e0a13e46047c682e8b52e6bd68e86": {
          "model_module": "@jupyter-widgets/controls",
          "model_module_version": "1.5.0",
          "model_name": "HBoxModel",
          "state": {
            "_dom_classes": [],
            "_model_module": "@jupyter-widgets/controls",
            "_model_module_version": "1.5.0",
            "_model_name": "HBoxModel",
            "_view_count": null,
            "_view_module": "@jupyter-widgets/controls",
            "_view_module_version": "1.5.0",
            "_view_name": "HBoxView",
            "box_style": "",
            "children": [
              "IPY_MODEL_871510e99fa04ba3919c4026d62b1dda",
              "IPY_MODEL_6c5d525c443c4b06b2456234783ced43",
              "IPY_MODEL_12ef9736ce9740bf9ffe1ebf551029c6"
            ],
            "layout": "IPY_MODEL_c316a6c1a3724684a640ccfaae306ba7"
          }
        }
      }
    }
  },
  "nbformat": 4,
  "nbformat_minor": 0
}
